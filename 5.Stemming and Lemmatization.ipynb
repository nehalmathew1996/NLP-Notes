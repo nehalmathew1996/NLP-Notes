{
 "cells": [
  {
   "cell_type": "markdown",
   "id": "e8bcfb90",
   "metadata": {},
   "source": [
    "# Stemming and Lemmatization"
   ]
  },
  {
   "cell_type": "markdown",
   "id": "17d13842",
   "metadata": {},
   "source": [
    "Stemming and Lemmatization both generate the root form of the inflected words. The difference is that stem might not be an actual word whereas, lemma is an actual language word. Stemming follows an algorithm with steps to perform on the words which makes it faster."
   ]
  },
  {
   "cell_type": "markdown",
   "id": "1ab4d124",
   "metadata": {},
   "source": [
    "- Stemming follows an algorithm with steps to perform on the words which makes it faster. \n",
    "\n",
    "- Lemmatization, you used WordNet corpus and a corpus for stop words as well to produce lemma which makes it slower than stemming."
   ]
  },
  {
   "cell_type": "markdown",
   "id": "db9168ae",
   "metadata": {},
   "source": [
    "## Importing Libraries"
   ]
  },
  {
   "cell_type": "code",
   "execution_count": 4,
   "id": "8f2b3254",
   "metadata": {},
   "outputs": [
    {
     "name": "stderr",
     "output_type": "stream",
     "text": [
      "c:\\users\\nehal\\anaconda3\\envs\\nlp\\lib\\importlib\\_bootstrap.py:219: RuntimeWarning: numpy.ufunc size changed, may indicate binary incompatibility. Expected 192 from C header, got 216 from PyObject\n",
      "  return f(*args, **kwds)\n"
     ]
    }
   ],
   "source": [
    "import pandas as pd\n",
    "import numpy as np "
   ]
  },
  {
   "cell_type": "markdown",
   "id": "34c66aca",
   "metadata": {},
   "source": [
    "### Read Data"
   ]
  },
  {
   "cell_type": "code",
   "execution_count": 5,
   "id": "755dd867",
   "metadata": {},
   "outputs": [
    {
     "data": {
      "text/plain": [
       "(3220, 14)"
      ]
     },
     "execution_count": 5,
     "metadata": {},
     "output_type": "execute_result"
    }
   ],
   "source": [
    "tweets = pd.read_csv('C:\\\\Users\\\\nehal\\\\Music\\\\12.NLP\\\\Practise\\\\Datasets\\\\narendramodi_tweets.csv')\n",
    "tweets.shape\n"
   ]
  },
  {
   "cell_type": "code",
   "execution_count": 6,
   "id": "47ea3073",
   "metadata": {},
   "outputs": [
    {
     "data": {
      "text/html": [
       "<div>\n",
       "<style scoped>\n",
       "    .dataframe tbody tr th:only-of-type {\n",
       "        vertical-align: middle;\n",
       "    }\n",
       "\n",
       "    .dataframe tbody tr th {\n",
       "        vertical-align: top;\n",
       "    }\n",
       "\n",
       "    .dataframe thead th {\n",
       "        text-align: right;\n",
       "    }\n",
       "</style>\n",
       "<table border=\"1\" class=\"dataframe\">\n",
       "  <thead>\n",
       "    <tr style=\"text-align: right;\">\n",
       "      <th></th>\n",
       "      <th>id</th>\n",
       "      <th>retweets_count</th>\n",
       "      <th>favorite_count</th>\n",
       "      <th>created_at</th>\n",
       "      <th>text</th>\n",
       "      <th>lang</th>\n",
       "      <th>retweeted</th>\n",
       "      <th>followers_count</th>\n",
       "      <th>friends_count</th>\n",
       "      <th>hashtags_count</th>\n",
       "      <th>description</th>\n",
       "      <th>location</th>\n",
       "      <th>background_image_url</th>\n",
       "      <th>source</th>\n",
       "    </tr>\n",
       "  </thead>\n",
       "  <tbody>\n",
       "    <tr>\n",
       "      <th>0</th>\n",
       "      <td>8.263846e+17</td>\n",
       "      <td>1406.0</td>\n",
       "      <td>4903.0</td>\n",
       "      <td>2017-01-31 11:00:07</td>\n",
       "      <td>The President's address wonderfully encapsulat...</td>\n",
       "      <td>en</td>\n",
       "      <td>False</td>\n",
       "      <td>26809964.0</td>\n",
       "      <td>1641.0</td>\n",
       "      <td>1.0</td>\n",
       "      <td>Prime Minister of India</td>\n",
       "      <td>India</td>\n",
       "      <td>http://pbs.twimg.com/profile_background_images...</td>\n",
       "      <td>Twitter Web Client</td>\n",
       "    </tr>\n",
       "    <tr>\n",
       "      <th>1</th>\n",
       "      <td>8.263843e+17</td>\n",
       "      <td>907.0</td>\n",
       "      <td>2877.0</td>\n",
       "      <td>2017-01-31 10:59:12</td>\n",
       "      <td>Rashtrapati Ji's address to both Houses of Par...</td>\n",
       "      <td>en</td>\n",
       "      <td>False</td>\n",
       "      <td>26809964.0</td>\n",
       "      <td>1641.0</td>\n",
       "      <td>0.0</td>\n",
       "      <td>Prime Minister of India</td>\n",
       "      <td>India</td>\n",
       "      <td>http://pbs.twimg.com/profile_background_images...</td>\n",
       "      <td>Twitter Web Client</td>\n",
       "    </tr>\n",
       "    <tr>\n",
       "      <th>2</th>\n",
       "      <td>8.263827e+17</td>\n",
       "      <td>694.0</td>\n",
       "      <td>0.0</td>\n",
       "      <td>2017-01-31 10:52:33</td>\n",
       "      <td>RT @PMOIndia: Empowering the marginalised. htt...</td>\n",
       "      <td>en</td>\n",
       "      <td>False</td>\n",
       "      <td>26809964.0</td>\n",
       "      <td>1641.0</td>\n",
       "      <td>0.0</td>\n",
       "      <td>Prime Minister of India</td>\n",
       "      <td>India</td>\n",
       "      <td>http://pbs.twimg.com/profile_background_images...</td>\n",
       "      <td>Twitter Web Client</td>\n",
       "    </tr>\n",
       "    <tr>\n",
       "      <th>3</th>\n",
       "      <td>8.263826e+17</td>\n",
       "      <td>666.0</td>\n",
       "      <td>0.0</td>\n",
       "      <td>2017-01-31 10:52:22</td>\n",
       "      <td>RT @PMOIndia: Commitment to welfare of farmers...</td>\n",
       "      <td>en</td>\n",
       "      <td>False</td>\n",
       "      <td>26809964.0</td>\n",
       "      <td>1641.0</td>\n",
       "      <td>0.0</td>\n",
       "      <td>Prime Minister of India</td>\n",
       "      <td>India</td>\n",
       "      <td>http://pbs.twimg.com/profile_background_images...</td>\n",
       "      <td>Twitter Web Client</td>\n",
       "    </tr>\n",
       "    <tr>\n",
       "      <th>4</th>\n",
       "      <td>8.263826e+17</td>\n",
       "      <td>716.0</td>\n",
       "      <td>0.0</td>\n",
       "      <td>2017-01-31 10:52:16</td>\n",
       "      <td>RT @PMOIndia: Improving the quality of life fo...</td>\n",
       "      <td>en</td>\n",
       "      <td>False</td>\n",
       "      <td>26809964.0</td>\n",
       "      <td>1641.0</td>\n",
       "      <td>0.0</td>\n",
       "      <td>Prime Minister of India</td>\n",
       "      <td>India</td>\n",
       "      <td>http://pbs.twimg.com/profile_background_images...</td>\n",
       "      <td>Twitter Web Client</td>\n",
       "    </tr>\n",
       "  </tbody>\n",
       "</table>\n",
       "</div>"
      ],
      "text/plain": [
       "             id  retweets_count  favorite_count           created_at  \\\n",
       "0  8.263846e+17          1406.0          4903.0  2017-01-31 11:00:07   \n",
       "1  8.263843e+17           907.0          2877.0  2017-01-31 10:59:12   \n",
       "2  8.263827e+17           694.0             0.0  2017-01-31 10:52:33   \n",
       "3  8.263826e+17           666.0             0.0  2017-01-31 10:52:22   \n",
       "4  8.263826e+17           716.0             0.0  2017-01-31 10:52:16   \n",
       "\n",
       "                                                text lang  retweeted  \\\n",
       "0  The President's address wonderfully encapsulat...   en      False   \n",
       "1  Rashtrapati Ji's address to both Houses of Par...   en      False   \n",
       "2  RT @PMOIndia: Empowering the marginalised. htt...   en      False   \n",
       "3  RT @PMOIndia: Commitment to welfare of farmers...   en      False   \n",
       "4  RT @PMOIndia: Improving the quality of life fo...   en      False   \n",
       "\n",
       "   followers_count  friends_count  hashtags_count              description  \\\n",
       "0       26809964.0         1641.0             1.0  Prime Minister of India   \n",
       "1       26809964.0         1641.0             0.0  Prime Minister of India   \n",
       "2       26809964.0         1641.0             0.0  Prime Minister of India   \n",
       "3       26809964.0         1641.0             0.0  Prime Minister of India   \n",
       "4       26809964.0         1641.0             0.0  Prime Minister of India   \n",
       "\n",
       "  location                               background_image_url  \\\n",
       "0    India  http://pbs.twimg.com/profile_background_images...   \n",
       "1    India  http://pbs.twimg.com/profile_background_images...   \n",
       "2    India  http://pbs.twimg.com/profile_background_images...   \n",
       "3    India  http://pbs.twimg.com/profile_background_images...   \n",
       "4    India  http://pbs.twimg.com/profile_background_images...   \n",
       "\n",
       "               source  \n",
       "0  Twitter Web Client  \n",
       "1  Twitter Web Client  \n",
       "2  Twitter Web Client  \n",
       "3  Twitter Web Client  \n",
       "4  Twitter Web Client  "
      ]
     },
     "execution_count": 6,
     "metadata": {},
     "output_type": "execute_result"
    }
   ],
   "source": [
    "tweets.head()"
   ]
  },
  {
   "cell_type": "code",
   "execution_count": 7,
   "id": "ede85332",
   "metadata": {},
   "outputs": [
    {
     "data": {
      "text/plain": [
       "0    The President's address wonderfully encapsulat...\n",
       "1    Rashtrapati Ji's address to both Houses of Par...\n",
       "2    RT @PMOIndia: Empowering the marginalised. htt...\n",
       "Name: text, dtype: object"
      ]
     },
     "execution_count": 7,
     "metadata": {},
     "output_type": "execute_result"
    }
   ],
   "source": [
    "# Retriewing Comments\n",
    "docs=tweets.text\n",
    "docs[:3]"
   ]
  },
  {
   "cell_type": "code",
   "execution_count": 8,
   "id": "031ed804",
   "metadata": {},
   "outputs": [
    {
     "data": {
      "text/plain": [
       "0    the president's address wonderfully encapsulat...\n",
       "1    rashtrapati ji's address to both houses of par...\n",
       "2    rt @pmoindia: empowering the marginalised. htt...\n",
       "3    rt @pmoindia: commitment to welfare of farmers...\n",
       "4    rt @pmoindia: improving the quality of life fo...\n",
       "Name: text, dtype: object"
      ]
     },
     "execution_count": 8,
     "metadata": {},
     "output_type": "execute_result"
    }
   ],
   "source": [
    "# Converting reviews to lower case\n",
    "docs.str.lower()[:5]"
   ]
  },
  {
   "cell_type": "code",
   "execution_count": 9,
   "id": "b6157122",
   "metadata": {},
   "outputs": [],
   "source": [
    "# extracting only alphabets, spaces and fullstops\n",
    "docs=docs.str.lower().str.replace('[^a-z\\s.]','')[:5]"
   ]
  },
  {
   "cell_type": "markdown",
   "id": "eff26a61",
   "metadata": {},
   "source": [
    "### Stemming"
   ]
  },
  {
   "cell_type": "code",
   "execution_count": 14,
   "id": "fab1f89c",
   "metadata": {},
   "outputs": [
    {
     "data": {
      "text/plain": [
       "['the presid address wonderfulli encapsul india strength aspir potenti amp the effort toward transformingindia.',\n",
       " 'rashtrapati ji address to both hous of parliament wa indepth amp extensive. do hear. httpst.cordkqtjgnnx rashtrapatibhvn',\n",
       " 'rt pmoindia empow the marginalised. httpst.cowwsqgwdk',\n",
       " 'rt pmoindia commit to welfar of farmers. httpst.copaafrfmrc',\n",
       " 'rt pmoindia improv the qualiti of life for the poor. httpst.cougmvkz']"
      ]
     },
     "execution_count": 14,
     "metadata": {},
     "output_type": "execute_result"
    }
   ],
   "source": [
    "# Not better to remove after removing stop words\n",
    "from gensim.parsing.preprocessing import PorterStemmer\n",
    "\n",
    "stemmer = PorterStemmer()\n",
    "stemmer.stem_documents(docs)"
   ]
  },
  {
   "cell_type": "code",
   "execution_count": null,
   "id": "7986ae16",
   "metadata": {},
   "outputs": [],
   "source": []
  },
  {
   "cell_type": "markdown",
   "id": "505f9c79",
   "metadata": {},
   "source": [
    "### Lemmatization"
   ]
  },
  {
   "cell_type": "code",
   "execution_count": 15,
   "id": "c756fa44",
   "metadata": {},
   "outputs": [],
   "source": [
    "import spacy"
   ]
  },
  {
   "cell_type": "code",
   "execution_count": 21,
   "id": "6b8e649b",
   "metadata": {},
   "outputs": [
    {
     "name": "stdout",
     "output_type": "stream",
     "text": [
      "rashtrapati | rashtrapati | NOUN\n",
      "jis | jis | VERB\n",
      "address | address | NOUN\n",
      "to | to | ADP\n",
      "both | both | DET\n",
      "houses | house | NOUN\n",
      "of | of | ADP\n",
      "parliament | parliament | NOUN\n",
      "was | be | AUX\n",
      "indepth | indepth | PROPN\n",
      "amp | amp | PROPN\n",
      "extensive | extensive | ADJ\n",
      ". | . | PUNCT\n",
      "do | do | AUX\n",
      "hear | hear | VERB\n",
      ". | . | PUNCT\n",
      "httpst.cordkqtjgnnx | httpst.cordkqtjgnnx | PROPN\n",
      "rashtrapatibhvn | rashtrapatibhvn | PROPN\n"
     ]
    }
   ],
   "source": [
    "nlp=spacy.load('en_core_web_sm')\n",
    "\n",
    "proc_doc=nlp(docs.iloc[1])\n",
    "for token in proc_doc:\n",
    "    print(token,'|',token.lemma_,'|',token.pos_)"
   ]
  },
  {
   "cell_type": "code",
   "execution_count": null,
   "id": "05989476",
   "metadata": {},
   "outputs": [],
   "source": []
  }
 ],
 "metadata": {
  "kernelspec": {
   "display_name": "Python 3",
   "language": "python",
   "name": "python3"
  },
  "language_info": {
   "codemirror_mode": {
    "name": "ipython",
    "version": 3
   },
   "file_extension": ".py",
   "mimetype": "text/x-python",
   "name": "python",
   "nbconvert_exporter": "python",
   "pygments_lexer": "ipython3",
   "version": "3.6.13"
  }
 },
 "nbformat": 4,
 "nbformat_minor": 5
}
