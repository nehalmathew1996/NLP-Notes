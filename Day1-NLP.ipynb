{
 "cells": [
  {
   "cell_type": "code",
   "execution_count": 33,
   "id": "d795d7dc",
   "metadata": {},
   "outputs": [
    {
     "name": "stderr",
     "output_type": "stream",
     "text": [
      "[nltk_data] Downloading package reuters to\n",
      "[nltk_data]     C:\\Users\\nehal\\AppData\\Roaming\\nltk_data...\n",
      "[nltk_data]   Package reuters is already up-to-date!\n"
     ]
    },
    {
     "data": {
      "text/plain": [
       "True"
      ]
     },
     "execution_count": 33,
     "metadata": {},
     "output_type": "execute_result"
    }
   ],
   "source": [
    "import numpy as np \n",
    "import pandas as pd\n",
    " \n",
    "import nltk \n",
    "\n",
    "from nltk.corpus import stopwords\n",
    "from nltk import word_tokenize\n",
    "\n",
    "from string import punctuation\n",
    "\n",
    "nltk.download('reuters')"
   ]
  },
  {
   "cell_type": "markdown",
   "id": "820e99e1",
   "metadata": {},
   "source": [
    "## Reading Data"
   ]
  },
  {
   "cell_type": "code",
   "execution_count": 6,
   "id": "bb475aa4",
   "metadata": {},
   "outputs": [],
   "source": [
    "from nltk.corpus import reuters"
   ]
  },
  {
   "cell_type": "code",
   "execution_count": 10,
   "id": "92af5abf",
   "metadata": {},
   "outputs": [
    {
     "name": "stdout",
     "output_type": "stream",
     "text": [
      "TOWN AND COUNTRY JEWELRY MANUFACTURING &lt;TCJC>\n",
      "  4thh qtr Feb 28\n",
      "      Shr 46 cts vs 22 cts\n",
      "      Net 2,139,034 vs 854,182\n",
      "      Sales 30.8 mln vs 20.6 mln\n",
      "      Avg shrs 5,280,854 vs 4,559,646\n",
      "      Year\n",
      "      Shr 1.34 dlrs vs 1.15 dlrs\n",
      "      Net 5,935,117 vs 4,156,171\n",
      "      Sales 107.2 mln vs 71.6 mln\n",
      "      Avg shrs 5,281,387 vs 3,616,183\n",
      "      NOTE: Town and Country Jewelry Manufacturing Corp.\n",
      "  \n",
      "\n",
      "\n"
     ]
    }
   ],
   "source": [
    "print(reuters.raw('test/15000'))"
   ]
  },
  {
   "cell_type": "code",
   "execution_count": 13,
   "id": "ed970690",
   "metadata": {},
   "outputs": [
    {
     "name": "stdout",
     "output_type": "stream",
     "text": [
      "['test/14826', 'test/14828', 'test/14829', 'test/14832', 'test/14833']\n"
     ]
    },
    {
     "data": {
      "text/plain": [
       "10788"
      ]
     },
     "execution_count": 13,
     "metadata": {},
     "output_type": "execute_result"
    }
   ],
   "source": [
    "print(reuters.fileids()[:5])\n",
    "len(reuters.fileids())"
   ]
  },
  {
   "cell_type": "markdown",
   "id": "e1ff38fb",
   "metadata": {},
   "source": [
    "### Processing the Data \n",
    "#### Tokenize"
   ]
  },
  {
   "cell_type": "code",
   "execution_count": 17,
   "id": "fb6a582a",
   "metadata": {
    "scrolled": true
   },
   "outputs": [
    {
     "name": "stdout",
     "output_type": "stream",
     "text": [
      "['TOWN', 'AND', 'COUNTRY', 'JEWELRY', 'MANUFACTURING', '&', 'lt', ';', 'TCJC', '>', '4thh', 'qtr', 'Feb', '28', 'Shr', '46', 'cts', 'vs', '22', 'cts', 'Net', '2,139,034', 'vs', '854,182', 'Sales', '30.8', 'mln', 'vs', '20.6', 'mln', 'Avg', 'shrs', '5,280,854', 'vs', '4,559,646', 'Year', 'Shr', '1.34', 'dlrs', 'vs', '1.15', 'dlrs', 'Net', '5,935,117', 'vs', '4,156,171', 'Sales', '107.2', 'mln', 'vs', '71.6', 'mln', 'Avg', 'shrs', '5,281,387', 'vs', '3,616,183', 'NOTE', ':', 'Town', 'and', 'Country', 'Jewelry', 'Manufacturing', 'Corp', '.']\n"
     ]
    }
   ],
   "source": [
    "doc=reuters.raw('test/15000')\n",
    "\n",
    "tokens=word_tokenize(doc)\n",
    "print(tokens)\n"
   ]
  },
  {
   "cell_type": "markdown",
   "id": "68c34c0d",
   "metadata": {},
   "source": [
    "#### Lower Case"
   ]
  },
  {
   "cell_type": "code",
   "execution_count": 21,
   "id": "04575fe6",
   "metadata": {},
   "outputs": [
    {
     "name": "stdout",
     "output_type": "stream",
     "text": [
      "['town', 'and', 'country', 'jewelry', 'manufacturing', '&', 'lt', ';', 'tcjc', '>', '4thh', 'qtr', 'feb', '28', 'shr', '46', 'cts', 'vs', '22', 'cts', 'net', '2,139,034', 'vs', '854,182', 'sales', '30.8', 'mln', 'vs', '20.6', 'mln', 'avg', 'shrs', '5,280,854', 'vs', '4,559,646', 'year', 'shr', '1.34', 'dlrs', 'vs', '1.15', 'dlrs', 'net', '5,935,117', 'vs', '4,156,171', 'sales', '107.2', 'mln', 'vs', '71.6', 'mln', 'avg', 'shrs', '5,281,387', 'vs', '3,616,183', 'note', ':', 'town', 'and', 'country', 'jewelry', 'manufacturing', 'corp', '.']\n"
     ]
    }
   ],
   "source": [
    "tokens_lower=[x.lower() for x in tokens]\n",
    "print(tokens_lower)"
   ]
  },
  {
   "cell_type": "markdown",
   "id": "c609ad89",
   "metadata": {},
   "source": [
    "#### Remove Punctuation"
   ]
  },
  {
   "cell_type": "code",
   "execution_count": 31,
   "id": "83476e1d",
   "metadata": {
    "scrolled": true
   },
   "outputs": [
    {
     "name": "stderr",
     "output_type": "stream",
     "text": [
      "[nltk_data] Downloading package punkt to\n",
      "[nltk_data]     C:\\Users\\nehal\\AppData\\Roaming\\nltk_data...\n",
      "[nltk_data]   Package punkt is already up-to-date!\n"
     ]
    },
    {
     "data": {
      "text/plain": [
       "True"
      ]
     },
     "execution_count": 31,
     "metadata": {},
     "output_type": "execute_result"
    }
   ],
   "source": [
    "nltk.download('punkt')"
   ]
  },
  {
   "cell_type": "code",
   "execution_count": null,
   "id": "4a501911",
   "metadata": {},
   "outputs": [],
   "source": []
  },
  {
   "cell_type": "code",
   "execution_count": 36,
   "id": "d038ff06",
   "metadata": {},
   "outputs": [
    {
     "name": "stdout",
     "output_type": "stream",
     "text": [
      "['!', '\"', '#', '$', '%', '&', \"'\", '(', ')', '*', '+', ',', '-', '.', '/', ':', ';', '<', '=', '>', '?', '@', '[', '\\\\', ']', '^', '_', '`', '{', '|', '}', '~']\n"
     ]
    }
   ],
   "source": [
    "punctuations=[x for x in punctuation]\n",
    "print(punctuations)"
   ]
  },
  {
   "cell_type": "code",
   "execution_count": 25,
   "id": "af7e672c",
   "metadata": {},
   "outputs": [
    {
     "name": "stdout",
     "output_type": "stream",
     "text": [
      "['town', 'and', 'country', 'jewelry', 'manufacturing', 'lt', 'tcjc', '4thh', 'qtr', 'feb', '28', 'shr', '46', 'cts', 'vs', '22', 'cts', 'net', '2,139,034', 'vs', '854,182', 'sales', '30.8', 'mln', 'vs', '20.6', 'mln', 'avg', 'shrs', '5,280,854', 'vs', '4,559,646', 'year', 'shr', '1.34', 'dlrs', 'vs', '1.15', 'dlrs', 'net', '5,935,117', 'vs', '4,156,171', 'sales', '107.2', 'mln', 'vs', '71.6', 'mln', 'avg', 'shrs', '5,281,387', 'vs', '3,616,183', 'note', 'town', 'and', 'country', 'jewelry', 'manufacturing', 'corp', '.']\n"
     ]
    }
   ],
   "source": [
    "puncList = [\";\",\":\",\">\",\"!\",\"?\",\"/\",\"\\\\\",\",\",\"#\",\"@\",\"$\",\"&\",\")\",\"(\",\"\\\"\"]\n",
    "\n",
    "filtered_sentence=[w for w in tokens_lower if not w in puncList]\n",
    "print(filtered_sentence)"
   ]
  },
  {
   "cell_type": "code",
   "execution_count": 30,
   "id": "14e2f5b6",
   "metadata": {},
   "outputs": [
    {
     "name": "stdout",
     "output_type": "stream",
     "text": [
      "['town', 'and', 'country', 'jewelry', 'manufacturing', '&', 'lt', ';', 'tcjc', '>', '4thh', 'qtr', 'feb', '28', 'shr', '46', 'cts', 'vs', '22', 'cts', 'net', '2,139,034', 'vs', '854,182', 'sales', '30.8', 'mln', 'vs', '20.6', 'mln', 'avg', 'shrs', '5,280,854', 'vs', '4,559,646', 'year', 'shr', '1.34', 'dlrs', 'vs', '1.15', 'dlrs', 'net', '5,935,117', 'vs', '4,156,171', 'sales', '107.2', 'mln', 'vs', '71.6', 'mln', 'avg', 'shrs', '5,281,387', 'vs', '3,616,183', 'note', ':', 'town', 'and', 'country', 'jewelry', 'manufacturing', 'corp', '.']\n",
      "['town', 'and', 'country', 'jewelry', 'manufacturing', 'lt', 'tcjc', '4thh', 'qtr', 'feb', '28', 'shr', '46', 'cts', 'vs', '22', 'cts', 'net', '2,139,034', 'vs', '854,182', 'sales', '30.8', 'mln', 'vs', '20.6', 'mln', 'avg', 'shrs', '5,280,854', 'vs', '4,559,646', 'year', 'shr', '1.34', 'dlrs', 'vs', '1.15', 'dlrs', 'net', '5,935,117', 'vs', '4,156,171', 'sales', '107.2', 'mln', 'vs', '71.6', 'mln', 'avg', 'shrs', '5,281,387', 'vs', '3,616,183', 'note', 'town', 'and', 'country', 'jewelry', 'manufacturing', 'corp', '.']\n"
     ]
    }
   ],
   "source": [
    "punc_filtered_sentence=[]\n",
    "for w in tokens_lower: \n",
    "    if w not in puncList: \n",
    "        punc_filtered_sentence.append(w) \n",
    "  \n",
    "print(tokens_lower) \n",
    "print(filtered_sentence) "
   ]
  },
  {
   "cell_type": "markdown",
   "id": "2662d2aa",
   "metadata": {},
   "source": [
    "#### Removing the Stop Words"
   ]
  },
  {
   "cell_type": "code",
   "execution_count": 43,
   "id": "961ff39d",
   "metadata": {},
   "outputs": [
    {
     "name": "stderr",
     "output_type": "stream",
     "text": [
      "[nltk_data] Downloading package stopwords to\n",
      "[nltk_data]     C:\\Users\\nehal\\AppData\\Roaming\\nltk_data...\n",
      "[nltk_data]   Package stopwords is already up-to-date!\n"
     ]
    },
    {
     "data": {
      "text/plain": [
       "True"
      ]
     },
     "execution_count": 43,
     "metadata": {},
     "output_type": "execute_result"
    }
   ],
   "source": [
    "import nltk \n",
    "from nltk.corpus import stopwords\n",
    "nltk.download('stopwords')"
   ]
  },
  {
   "cell_type": "code",
   "execution_count": 45,
   "id": "b729989f",
   "metadata": {},
   "outputs": [
    {
     "name": "stdout",
     "output_type": "stream",
     "text": [
      "['i', 'me', 'my', 'myself', 'we', 'our', 'ours', 'ourselves', 'you', \"you're\", \"you've\", \"you'll\", \"you'd\", 'your', 'yours', 'yourself', 'yourselves', 'he', 'him', 'his', 'himself', 'she', \"she's\", 'her', 'hers', 'herself', 'it', \"it's\", 'its', 'itself', 'they', 'them', 'their', 'theirs', 'themselves', 'what', 'which', 'who', 'whom', 'this', 'that', \"that'll\", 'these', 'those', 'am', 'is', 'are', 'was', 'were', 'be', 'been', 'being', 'have', 'has', 'had', 'having', 'do', 'does', 'did', 'doing', 'a', 'an', 'the', 'and', 'but', 'if', 'or', 'because', 'as', 'until', 'while', 'of', 'at', 'by', 'for', 'with', 'about', 'against', 'between', 'into', 'through', 'during', 'before', 'after', 'above', 'below', 'to', 'from', 'up', 'down', 'in', 'out', 'on', 'off', 'over', 'under', 'again', 'further', 'then', 'once', 'here', 'there', 'when', 'where', 'why', 'how', 'all', 'any', 'both', 'each', 'few', 'more', 'most', 'other', 'some', 'such', 'no', 'nor', 'not', 'only', 'own', 'same', 'so', 'than', 'too', 'very', 's', 't', 'can', 'will', 'just', 'don', \"don't\", 'should', \"should've\", 'now', 'd', 'll', 'm', 'o', 're', 've', 'y', 'ain', 'aren', \"aren't\", 'couldn', \"couldn't\", 'didn', \"didn't\", 'doesn', \"doesn't\", 'hadn', \"hadn't\", 'hasn', \"hasn't\", 'haven', \"haven't\", 'isn', \"isn't\", 'ma', 'mightn', \"mightn't\", 'mustn', \"mustn't\", 'needn', \"needn't\", 'shan', \"shan't\", 'shouldn', \"shouldn't\", 'wasn', \"wasn't\", 'weren', \"weren't\", 'won', \"won't\", 'wouldn', \"wouldn't\"]\n"
     ]
    }
   ],
   "source": [
    "stop_words=stopwords.words('english')\n",
    "print(stop_words)"
   ]
  },
  {
   "cell_type": "code",
   "execution_count": 48,
   "id": "9bec9519",
   "metadata": {},
   "outputs": [
    {
     "name": "stdout",
     "output_type": "stream",
     "text": [
      "['town', 'country', 'jewelry', 'manufacturing', '&', 'lt', ';', 'tcjc', '>', '4thh', 'qtr', 'feb', '28', 'shr', '46', 'cts', 'vs', '22', 'cts', 'net', '2,139,034', 'vs', '854,182', 'sales', '30.8', 'mln', 'vs', '20.6', 'mln', 'avg', 'shrs', '5,280,854', 'vs', '4,559,646', 'year', 'shr', '1.34', 'dlrs', 'vs', '1.15', 'dlrs', 'net', '5,935,117', 'vs', '4,156,171', 'sales', '107.2', 'mln', 'vs', '71.6', 'mln', 'avg', 'shrs', '5,281,387', 'vs', '3,616,183', 'note', ':', 'town', 'country', 'jewelry', 'manufacturing', 'corp', '.']\n"
     ]
    }
   ],
   "source": [
    "filtered_sentence = [x for x in tokens_lower if not x in stop_words]\n",
    "print(filtered_sentence)"
   ]
  },
  {
   "cell_type": "code",
   "execution_count": 50,
   "id": "b0e34b9e",
   "metadata": {},
   "outputs": [
    {
     "name": "stdout",
     "output_type": "stream",
     "text": [
      "['town', 'country', 'jewelry', 'manufacturing', 'lt', 'tcjc', '4thh', 'qtr', 'feb', '28', 'shr', '46', 'cts', 'vs', '22', 'cts', 'net', '2,139,034', 'vs', '854,182', 'sales', '30.8', 'mln', 'vs', '20.6', 'mln', 'avg', 'shrs', '5,280,854', 'vs', '4,559,646', 'year', 'shr', '1.34', 'dlrs', 'vs', '1.15', 'dlrs', 'net', '5,935,117', 'vs', '4,156,171', 'sales', '107.2', 'mln', 'vs', '71.6', 'mln', 'avg', 'shrs', '5,281,387', 'vs', '3,616,183', 'note', 'town', 'country', 'jewelry', 'manufacturing', 'corp', '.']\n"
     ]
    }
   ],
   "source": [
    "final_sentence=[x for x in filtered_sentence if not x in puncList]\n",
    "print(final_sentence)"
   ]
  },
  {
   "cell_type": "markdown",
   "id": "a0827d4d",
   "metadata": {},
   "source": [
    "### Stemming And Lemmatization\n",
    "#### Stemming\n"
   ]
  },
  {
   "cell_type": "code",
   "execution_count": 53,
   "id": "9d2da861",
   "metadata": {},
   "outputs": [],
   "source": [
    "from nltk.stem import PorterStemmer"
   ]
  },
  {
   "cell_type": "code",
   "execution_count": 57,
   "id": "002e1ae5",
   "metadata": {},
   "outputs": [
    {
     "name": "stdout",
     "output_type": "stream",
     "text": [
      "['town', 'countri', 'jewelri', 'manufactur', 'lt', 'tcjc', '4thh', 'qtr', 'feb', '28', 'shr', '46', 'ct', 'vs', '22', 'ct', 'net', '2,139,034', 'vs', '854,182', 'sale', '30.8', 'mln', 'vs', '20.6', 'mln', 'avg', 'shr', '5,280,854', 'vs', '4,559,646', 'year', 'shr', '1.34', 'dlr', 'vs', '1.15', 'dlr', 'net', '5,935,117', 'vs', '4,156,171', 'sale', '107.2', 'mln', 'vs', '71.6', 'mln', 'avg', 'shr', '5,281,387', 'vs', '3,616,183', 'note', 'town', 'countri', 'jewelri', 'manufactur', 'corp', '.']\n"
     ]
    }
   ],
   "source": [
    "final_sentence_stemmed=[PorterStemmer().stem(x) for x in final_sentence ]\n",
    "print(final_sentence_stemmed)"
   ]
  },
  {
   "cell_type": "markdown",
   "id": "dbf37d64",
   "metadata": {},
   "source": [
    "#### Lemmatization "
   ]
  },
  {
   "cell_type": "code",
   "execution_count": 59,
   "id": "0263df8b",
   "metadata": {},
   "outputs": [],
   "source": [
    "from nltk.stem import LancasterStemmer"
   ]
  },
  {
   "cell_type": "code",
   "execution_count": 63,
   "id": "5e0a2d0b",
   "metadata": {},
   "outputs": [
    {
     "name": "stdout",
     "output_type": "stream",
     "text": [
      "['town', 'country', 'jewelry', 'manufact', 'lt', 'tcjc', '4thh', 'qtr', 'feb', '28', 'shr', '46', 'cts', 'vs', '22', 'cts', 'net', '2,139,034', 'vs', '854,182', 'sal', '30.8', 'mln', 'vs', '20.6', 'mln', 'avg', 'shrs', '5,280,854', 'vs', '4,559,646', 'year', 'shr', '1.34', 'dlrs', 'vs', '1.15', 'dlrs', 'net', '5,935,117', 'vs', '4,156,171', 'sal', '107.2', 'mln', 'vs', '71.6', 'mln', 'avg', 'shrs', '5,281,387', 'vs', '3,616,183', 'not', 'town', 'country', 'jewelry', 'manufact', 'corp', '.']\n"
     ]
    }
   ],
   "source": [
    "final_sentence_lemma=[LancasterStemmer().stem(x) for x in final_sentence] \n",
    "print(final_sentence_lemma)"
   ]
  },
  {
   "cell_type": "markdown",
   "id": "df3ae5ba",
   "metadata": {},
   "source": [
    "### PoS - Parts of speech"
   ]
  },
  {
   "cell_type": "code",
   "execution_count": 65,
   "id": "57197163",
   "metadata": {},
   "outputs": [
    {
     "name": "stderr",
     "output_type": "stream",
     "text": [
      "[nltk_data] Downloading package averaged_perceptron_tagger to\n",
      "[nltk_data]     C:\\Users\\nehal\\AppData\\Roaming\\nltk_data...\n",
      "[nltk_data]   Unzipping taggers\\averaged_perceptron_tagger.zip.\n"
     ]
    },
    {
     "data": {
      "text/plain": [
       "True"
      ]
     },
     "execution_count": 65,
     "metadata": {},
     "output_type": "execute_result"
    }
   ],
   "source": [
    "nltk.download('averaged_perceptron_tagger')"
   ]
  },
  {
   "cell_type": "code",
   "execution_count": 67,
   "id": "38972ca7",
   "metadata": {},
   "outputs": [
    {
     "data": {
      "text/plain": [
       "[('town', 'NN'),\n",
       " ('country', 'NN'),\n",
       " ('jewelry', 'NN'),\n",
       " ('manufacturing', 'VBG'),\n",
       " ('&', 'CC')]"
      ]
     },
     "execution_count": 67,
     "metadata": {},
     "output_type": "execute_result"
    }
   ],
   "source": [
    "nltk.pos_tag(filtered_sentence)[:5]"
   ]
  },
  {
   "cell_type": "code",
   "execution_count": null,
   "id": "e8699a35",
   "metadata": {},
   "outputs": [],
   "source": []
  },
  {
   "cell_type": "code",
   "execution_count": null,
   "id": "589838d9",
   "metadata": {},
   "outputs": [],
   "source": []
  }
 ],
 "metadata": {
  "kernelspec": {
   "display_name": "Python 3",
   "language": "python",
   "name": "python3"
  },
  "language_info": {
   "codemirror_mode": {
    "name": "ipython",
    "version": 3
   },
   "file_extension": ".py",
   "mimetype": "text/x-python",
   "name": "python",
   "nbconvert_exporter": "python",
   "pygments_lexer": "ipython3",
   "version": "3.6.13"
  }
 },
 "nbformat": 4,
 "nbformat_minor": 5
}
