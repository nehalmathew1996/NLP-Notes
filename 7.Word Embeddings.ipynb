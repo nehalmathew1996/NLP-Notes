{
 "cells": [
  {
   "cell_type": "code",
   "execution_count": null,
   "metadata": {
    "papermill": {
     "duration": 0.023752,
     "end_time": "2021-09-14T15:22:55.240834",
     "exception": false,
     "start_time": "2021-09-14T15:22:55.217082",
     "status": "completed"
    },
    "tags": []
   },
   "outputs": [],
   "source": []
  },
  {
   "cell_type": "markdown",
   "metadata": {
    "papermill": {
     "duration": 0.021044,
     "end_time": "2021-09-14T15:22:55.283924",
     "exception": false,
     "start_time": "2021-09-14T15:22:55.262880",
     "status": "completed"
    },
    "tags": []
   },
   "source": [
    "# Named entity recognition \n",
    "Named entity recognition (NER)is probably the first step towards information extraction that seeks to locate and classify named entities in text into pre-defined categories such as the names of persons, organizations, locations, expressions of times, quantities, monetary values, percentages, etc. NER is used in many fields in Natural Language Processing (NLP), and it can help answering many real-world questions, such as:\n",
    "Which companies were mentioned in the news article?\n",
    "Were specified products mentioned in complaints or reviews?\n",
    "Does the tweet contain the name of a person? Does the tweet contain this person’s location?"
   ]
  },
  {
   "cell_type": "code",
   "execution_count": null,
   "metadata": {},
   "outputs": [],
   "source": []
  },
  {
   "cell_type": "markdown",
   "metadata": {
    "papermill": {
     "duration": 0.021315,
     "end_time": "2021-09-14T15:22:55.328637",
     "exception": false,
     "start_time": "2021-09-14T15:22:55.307322",
     "status": "completed"
    },
    "tags": []
   },
   "source": [
    "# Word2Vec"
   ]
  },
  {
   "cell_type": "markdown",
   "metadata": {
    "papermill": {
     "duration": 0.021199,
     "end_time": "2021-09-14T15:22:55.371244",
     "exception": false,
     "start_time": "2021-09-14T15:22:55.350045",
     "status": "completed"
    },
    "tags": []
   },
   "source": [
    "Word2vec is a technique for natural language processing published in 2013. The word2vec algorithm uses a neural network model to learn word associations from a large corpus of text. Once trained, such a model can detect synonymous words or suggest additional words for a partial sentence. As the name implies, word2vec represents each distinct word with a particular list of numbers called a vector. The vectors are chosen carefully such that a simple mathematical function (the cosine similarity between the vectors) indicates the level of semantic similarity between the words represented by those vectors."
   ]
  },
  {
   "cell_type": "markdown",
   "metadata": {
    "papermill": {
     "duration": 0.021877,
     "end_time": "2021-09-14T15:22:55.415149",
     "exception": false,
     "start_time": "2021-09-14T15:22:55.393272",
     "status": "completed"
    },
    "tags": []
   },
   "source": [
    "# CBOW and SkipGram\n",
    "Word2vec can utilize either of two model architectures to produce a distributed representation of words: continuous bag-of-words (CBOW) or continuous skip-gram. In the continuous bag-of-words architecture, the model predicts the current word from a window of surrounding context words. The order of context words does not influence prediction (bag-of-words assumption). In the continuous skip-gram architecture, the model uses the current word to predict the surrounding window of context words. The skip-gram architecture weighs nearby context words more heavily than more distant context words. According to the authors' note,CBOW is faster while skip-gram does a better job for infrequent words."
   ]
  },
  {
   "cell_type": "markdown",
   "metadata": {
    "papermill": {
     "duration": 0.021862,
     "end_time": "2021-09-14T15:22:55.459724",
     "exception": false,
     "start_time": "2021-09-14T15:22:55.437862",
     "status": "completed"
    },
    "tags": []
   },
   "source": [
    "### Differences\n",
    "- So as you're probably already aware of, CBOW and Skip-gram are just mirrored versions of each other. CBOW is trained to predict a single word from a fixed window size of context words, whereas Skip-gram does the opposite, and tries to predict several context words from a single input word.\n",
    "\n",
    "- Intuitively, the first task is much simpler, this implies a much faster convergence for CBOW than for Skip-gram, in the original paper (link below) they wrote that CBOW took hours to train, Skip-gram 3 days.\n",
    "\n",
    "- Because Skip-gram rely on single words input, it is less sensitive to overfit frequent words, because even if frequent words are presented more times that rare words during training, they still appear individually, while CBOW is prone to overfit frequent words because they appear several time along with the same context. This advantage over frequent words overfitting leads Skip-gram to be also more efficient in term of documents required to achieve good performances, much less than CBOW"
   ]
  },
  {
   "cell_type": "markdown",
   "metadata": {
    "papermill": {
     "duration": 0.025991,
     "end_time": "2021-09-14T15:22:55.509906",
     "exception": false,
     "start_time": "2021-09-14T15:22:55.483915",
     "status": "completed"
    },
    "tags": []
   },
   "source": [
    "### Skip Gram"
   ]
  },
  {
   "cell_type": "code",
   "execution_count": 1,
   "metadata": {
    "execution": {
     "iopub.execute_input": "2021-09-14T15:22:55.580412Z",
     "iopub.status.busy": "2021-09-14T15:22:55.579441Z",
     "iopub.status.idle": "2021-09-14T15:22:56.661855Z",
     "shell.execute_reply": "2021-09-14T15:22:56.662318Z",
     "shell.execute_reply.started": "2021-09-14T15:05:54.915157Z"
    },
    "papermill": {
     "duration": 1.116496,
     "end_time": "2021-09-14T15:22:56.662599",
     "exception": false,
     "start_time": "2021-09-14T15:22:55.546103",
     "status": "completed"
    },
    "tags": []
   },
   "outputs": [
    {
     "data": {
      "text/html": [
       "<div>\n",
       "<style scoped>\n",
       "    .dataframe tbody tr th:only-of-type {\n",
       "        vertical-align: middle;\n",
       "    }\n",
       "\n",
       "    .dataframe tbody tr th {\n",
       "        vertical-align: top;\n",
       "    }\n",
       "\n",
       "    .dataframe thead th {\n",
       "        text-align: right;\n",
       "    }\n",
       "</style>\n",
       "<table border=\"1\" class=\"dataframe\">\n",
       "  <thead>\n",
       "    <tr style=\"text-align: right;\">\n",
       "      <th></th>\n",
       "      <th>0</th>\n",
       "      <th>1</th>\n",
       "      <th>2</th>\n",
       "      <th>3</th>\n",
       "      <th>4</th>\n",
       "      <th>5</th>\n",
       "      <th>6</th>\n",
       "      <th>7</th>\n",
       "      <th>8</th>\n",
       "      <th>9</th>\n",
       "    </tr>\n",
       "  </thead>\n",
       "  <tbody>\n",
       "    <tr>\n",
       "      <th>dogs</th>\n",
       "      <td>-0.005362</td>\n",
       "      <td>0.002364</td>\n",
       "      <td>0.051033</td>\n",
       "      <td>0.090093</td>\n",
       "      <td>-0.093029</td>\n",
       "      <td>-0.071168</td>\n",
       "      <td>0.064589</td>\n",
       "      <td>0.089730</td>\n",
       "      <td>-0.050154</td>\n",
       "      <td>-0.037634</td>\n",
       "    </tr>\n",
       "    <tr>\n",
       "      <th>like</th>\n",
       "      <td>0.073805</td>\n",
       "      <td>-0.015335</td>\n",
       "      <td>-0.045366</td>\n",
       "      <td>0.065541</td>\n",
       "      <td>-0.048602</td>\n",
       "      <td>-0.018160</td>\n",
       "      <td>0.028766</td>\n",
       "      <td>0.009919</td>\n",
       "      <td>-0.082852</td>\n",
       "      <td>-0.094488</td>\n",
       "    </tr>\n",
       "    <tr>\n",
       "      <th>I</th>\n",
       "      <td>0.073118</td>\n",
       "      <td>0.050703</td>\n",
       "      <td>0.067577</td>\n",
       "      <td>0.007629</td>\n",
       "      <td>0.063509</td>\n",
       "      <td>-0.034054</td>\n",
       "      <td>-0.009464</td>\n",
       "      <td>0.057686</td>\n",
       "      <td>-0.075216</td>\n",
       "      <td>-0.039361</td>\n",
       "    </tr>\n",
       "    <tr>\n",
       "      <th>bad</th>\n",
       "      <td>-0.075116</td>\n",
       "      <td>-0.009300</td>\n",
       "      <td>0.095381</td>\n",
       "      <td>-0.073192</td>\n",
       "      <td>-0.023338</td>\n",
       "      <td>-0.019377</td>\n",
       "      <td>0.080774</td>\n",
       "      <td>-0.059309</td>\n",
       "      <td>0.000452</td>\n",
       "      <td>-0.047537</td>\n",
       "    </tr>\n",
       "    <tr>\n",
       "      <th>not</th>\n",
       "      <td>-0.096036</td>\n",
       "      <td>0.050073</td>\n",
       "      <td>-0.087596</td>\n",
       "      <td>-0.043918</td>\n",
       "      <td>-0.000351</td>\n",
       "      <td>-0.002962</td>\n",
       "      <td>-0.076612</td>\n",
       "      <td>0.096147</td>\n",
       "      <td>0.049821</td>\n",
       "      <td>0.092331</td>\n",
       "    </tr>\n",
       "    <tr>\n",
       "      <th>is</th>\n",
       "      <td>-0.081579</td>\n",
       "      <td>0.044958</td>\n",
       "      <td>-0.041371</td>\n",
       "      <td>0.008245</td>\n",
       "      <td>0.084986</td>\n",
       "      <td>-0.044622</td>\n",
       "      <td>0.045175</td>\n",
       "      <td>-0.067870</td>\n",
       "      <td>-0.035485</td>\n",
       "      <td>0.093985</td>\n",
       "    </tr>\n",
       "    <tr>\n",
       "      <th>movie</th>\n",
       "      <td>-0.015777</td>\n",
       "      <td>0.003214</td>\n",
       "      <td>-0.041406</td>\n",
       "      <td>-0.076827</td>\n",
       "      <td>-0.015080</td>\n",
       "      <td>0.024698</td>\n",
       "      <td>-0.008880</td>\n",
       "      <td>0.055337</td>\n",
       "      <td>-0.027430</td>\n",
       "      <td>0.022601</td>\n",
       "    </tr>\n",
       "    <tr>\n",
       "      <th>this</th>\n",
       "      <td>0.054558</td>\n",
       "      <td>0.083460</td>\n",
       "      <td>-0.014537</td>\n",
       "      <td>-0.092081</td>\n",
       "      <td>0.043706</td>\n",
       "      <td>0.005718</td>\n",
       "      <td>0.074419</td>\n",
       "      <td>-0.008133</td>\n",
       "      <td>-0.026384</td>\n",
       "      <td>-0.087530</td>\n",
       "    </tr>\n",
       "  </tbody>\n",
       "</table>\n",
       "</div>"
      ],
      "text/plain": [
       "              0         1         2         3         4         5         6  \\\n",
       "dogs  -0.005362  0.002364  0.051033  0.090093 -0.093029 -0.071168  0.064589   \n",
       "like   0.073805 -0.015335 -0.045366  0.065541 -0.048602 -0.018160  0.028766   \n",
       "I      0.073118  0.050703  0.067577  0.007629  0.063509 -0.034054 -0.009464   \n",
       "bad   -0.075116 -0.009300  0.095381 -0.073192 -0.023338 -0.019377  0.080774   \n",
       "not   -0.096036  0.050073 -0.087596 -0.043918 -0.000351 -0.002962 -0.076612   \n",
       "is    -0.081579  0.044958 -0.041371  0.008245  0.084986 -0.044622  0.045175   \n",
       "movie -0.015777  0.003214 -0.041406 -0.076827 -0.015080  0.024698 -0.008880   \n",
       "this   0.054558  0.083460 -0.014537 -0.092081  0.043706  0.005718  0.074419   \n",
       "\n",
       "              7         8         9  \n",
       "dogs   0.089730 -0.050154 -0.037634  \n",
       "like   0.009919 -0.082852 -0.094488  \n",
       "I      0.057686 -0.075216 -0.039361  \n",
       "bad   -0.059309  0.000452 -0.047537  \n",
       "not    0.096147  0.049821  0.092331  \n",
       "is    -0.067870 -0.035485  0.093985  \n",
       "movie  0.055337 -0.027430  0.022601  \n",
       "this  -0.008133 -0.026384 -0.087530  "
      ]
     },
     "execution_count": 1,
     "metadata": {},
     "output_type": "execute_result"
    }
   ],
   "source": [
    "from gensim.models import word2vec\n",
    "import pandas as pd\n",
    "\n",
    "sentences=[['this','movie','is','not','bad'],\n",
    "          ['I','like','dogs']]\n",
    "\n",
    "# sg=1 means skip gram , sg=0 means cbow\n",
    "\n",
    "model=word2vec.Word2Vec(sentences=sentences,\n",
    "                  vector_size=10,\n",
    "                  window=2,\n",
    "                  min_count=1,\n",
    "                  sg=1)\n",
    "\n",
    "words=list(model.wv.index_to_key)\n",
    "\n",
    "embeddings_matrix=model.wv[words]\n",
    "\n",
    "df_embeddings_matrix = pd.DataFrame(embeddings_matrix,index=words)\n",
    "df_embeddings_matrix\n"
   ]
  },
  {
   "cell_type": "code",
   "execution_count": 2,
   "metadata": {
    "execution": {
     "iopub.execute_input": "2021-09-14T15:22:56.715472Z",
     "iopub.status.busy": "2021-09-14T15:22:56.713084Z",
     "iopub.status.idle": "2021-09-14T15:22:56.721226Z",
     "shell.execute_reply": "2021-09-14T15:22:56.722060Z",
     "shell.execute_reply.started": "2021-09-14T15:05:55.190526Z"
    },
    "papermill": {
     "duration": 0.036594,
     "end_time": "2021-09-14T15:22:56.722297",
     "exception": false,
     "start_time": "2021-09-14T15:22:56.685703",
     "status": "completed"
    },
    "scrolled": true,
    "tags": []
   },
   "outputs": [
    {
     "data": {
      "text/plain": [
       "array([-0.01577654,  0.00321372, -0.0414063 , -0.07682689, -0.01508009,\n",
       "        0.02469795, -0.00888028,  0.05533662, -0.02742977,  0.02260065],\n",
       "      dtype=float32)"
      ]
     },
     "execution_count": 2,
     "metadata": {},
     "output_type": "execute_result"
    }
   ],
   "source": [
    "# Checking vector representation\n",
    "model.wv['movie']"
   ]
  },
  {
   "cell_type": "markdown",
   "metadata": {
    "papermill": {
     "duration": 0.030518,
     "end_time": "2021-09-14T15:22:56.778425",
     "exception": false,
     "start_time": "2021-09-14T15:22:56.747907",
     "status": "completed"
    },
    "tags": []
   },
   "source": [
    "### CBOW"
   ]
  },
  {
   "cell_type": "code",
   "execution_count": 3,
   "metadata": {
    "execution": {
     "iopub.execute_input": "2021-09-14T15:22:56.833475Z",
     "iopub.status.busy": "2021-09-14T15:22:56.832793Z",
     "iopub.status.idle": "2021-09-14T15:22:56.852494Z",
     "shell.execute_reply": "2021-09-14T15:22:56.851958Z",
     "shell.execute_reply.started": "2021-09-14T15:12:26.336153Z"
    },
    "papermill": {
     "duration": 0.044839,
     "end_time": "2021-09-14T15:22:56.852637",
     "exception": false,
     "start_time": "2021-09-14T15:22:56.807798",
     "status": "completed"
    },
    "tags": []
   },
   "outputs": [
    {
     "data": {
      "text/plain": [
       "['dogs', 'like', 'I', 'bad', 'not', 'is', 'movie', 'this']"
      ]
     },
     "execution_count": 3,
     "metadata": {},
     "output_type": "execute_result"
    }
   ],
   "source": [
    "from gensim.models import word2vec\n",
    "\n",
    "sentences=[['this','movie','is','not','bad'],\n",
    "          ['I','like','dogs']]\n",
    "\n",
    "model=word2vec.Word2Vec(sentences=sentences,\n",
    "                 vector_size=10,\n",
    "                 window=3,\n",
    "                 min_count=1,\n",
    "                  sg=0)\n",
    "\n",
    "words=model.wv.index_to_key\n",
    "words"
   ]
  },
  {
   "cell_type": "code",
   "execution_count": 4,
   "metadata": {
    "execution": {
     "iopub.execute_input": "2021-09-14T15:22:56.916627Z",
     "iopub.status.busy": "2021-09-14T15:22:56.915983Z",
     "iopub.status.idle": "2021-09-14T15:22:56.920450Z",
     "shell.execute_reply": "2021-09-14T15:22:56.919836Z",
     "shell.execute_reply.started": "2021-09-14T15:13:15.082938Z"
    },
    "papermill": {
     "duration": 0.045292,
     "end_time": "2021-09-14T15:22:56.920600",
     "exception": false,
     "start_time": "2021-09-14T15:22:56.875308",
     "status": "completed"
    },
    "tags": []
   },
   "outputs": [
    {
     "data": {
      "text/html": [
       "<div>\n",
       "<style scoped>\n",
       "    .dataframe tbody tr th:only-of-type {\n",
       "        vertical-align: middle;\n",
       "    }\n",
       "\n",
       "    .dataframe tbody tr th {\n",
       "        vertical-align: top;\n",
       "    }\n",
       "\n",
       "    .dataframe thead th {\n",
       "        text-align: right;\n",
       "    }\n",
       "</style>\n",
       "<table border=\"1\" class=\"dataframe\">\n",
       "  <thead>\n",
       "    <tr style=\"text-align: right;\">\n",
       "      <th></th>\n",
       "      <th>0</th>\n",
       "      <th>1</th>\n",
       "      <th>2</th>\n",
       "      <th>3</th>\n",
       "      <th>4</th>\n",
       "      <th>5</th>\n",
       "      <th>6</th>\n",
       "      <th>7</th>\n",
       "      <th>8</th>\n",
       "      <th>9</th>\n",
       "    </tr>\n",
       "  </thead>\n",
       "  <tbody>\n",
       "    <tr>\n",
       "      <th>dogs</th>\n",
       "      <td>-0.005362</td>\n",
       "      <td>0.002364</td>\n",
       "      <td>0.051033</td>\n",
       "      <td>0.090093</td>\n",
       "      <td>-0.093029</td>\n",
       "      <td>-0.071168</td>\n",
       "      <td>0.064589</td>\n",
       "      <td>0.089730</td>\n",
       "      <td>-0.050154</td>\n",
       "      <td>-0.037634</td>\n",
       "    </tr>\n",
       "    <tr>\n",
       "      <th>like</th>\n",
       "      <td>0.073805</td>\n",
       "      <td>-0.015335</td>\n",
       "      <td>-0.045366</td>\n",
       "      <td>0.065541</td>\n",
       "      <td>-0.048602</td>\n",
       "      <td>-0.018160</td>\n",
       "      <td>0.028766</td>\n",
       "      <td>0.009919</td>\n",
       "      <td>-0.082852</td>\n",
       "      <td>-0.094488</td>\n",
       "    </tr>\n",
       "    <tr>\n",
       "      <th>I</th>\n",
       "      <td>0.073118</td>\n",
       "      <td>0.050703</td>\n",
       "      <td>0.067577</td>\n",
       "      <td>0.007629</td>\n",
       "      <td>0.063509</td>\n",
       "      <td>-0.034054</td>\n",
       "      <td>-0.009464</td>\n",
       "      <td>0.057686</td>\n",
       "      <td>-0.075216</td>\n",
       "      <td>-0.039361</td>\n",
       "    </tr>\n",
       "    <tr>\n",
       "      <th>bad</th>\n",
       "      <td>-0.075116</td>\n",
       "      <td>-0.009300</td>\n",
       "      <td>0.095381</td>\n",
       "      <td>-0.073192</td>\n",
       "      <td>-0.023338</td>\n",
       "      <td>-0.019377</td>\n",
       "      <td>0.080774</td>\n",
       "      <td>-0.059309</td>\n",
       "      <td>0.000452</td>\n",
       "      <td>-0.047537</td>\n",
       "    </tr>\n",
       "    <tr>\n",
       "      <th>not</th>\n",
       "      <td>-0.096036</td>\n",
       "      <td>0.050073</td>\n",
       "      <td>-0.087596</td>\n",
       "      <td>-0.043918</td>\n",
       "      <td>-0.000351</td>\n",
       "      <td>-0.002962</td>\n",
       "      <td>-0.076612</td>\n",
       "      <td>0.096147</td>\n",
       "      <td>0.049821</td>\n",
       "      <td>0.092331</td>\n",
       "    </tr>\n",
       "    <tr>\n",
       "      <th>is</th>\n",
       "      <td>-0.081579</td>\n",
       "      <td>0.044958</td>\n",
       "      <td>-0.041371</td>\n",
       "      <td>0.008245</td>\n",
       "      <td>0.084986</td>\n",
       "      <td>-0.044622</td>\n",
       "      <td>0.045175</td>\n",
       "      <td>-0.067870</td>\n",
       "      <td>-0.035485</td>\n",
       "      <td>0.093985</td>\n",
       "    </tr>\n",
       "    <tr>\n",
       "      <th>movie</th>\n",
       "      <td>-0.015777</td>\n",
       "      <td>0.003214</td>\n",
       "      <td>-0.041406</td>\n",
       "      <td>-0.076827</td>\n",
       "      <td>-0.015080</td>\n",
       "      <td>0.024698</td>\n",
       "      <td>-0.008880</td>\n",
       "      <td>0.055337</td>\n",
       "      <td>-0.027430</td>\n",
       "      <td>0.022601</td>\n",
       "    </tr>\n",
       "    <tr>\n",
       "      <th>this</th>\n",
       "      <td>0.054558</td>\n",
       "      <td>0.083460</td>\n",
       "      <td>-0.014537</td>\n",
       "      <td>-0.092081</td>\n",
       "      <td>0.043706</td>\n",
       "      <td>0.005718</td>\n",
       "      <td>0.074419</td>\n",
       "      <td>-0.008133</td>\n",
       "      <td>-0.026384</td>\n",
       "      <td>-0.087530</td>\n",
       "    </tr>\n",
       "  </tbody>\n",
       "</table>\n",
       "</div>"
      ],
      "text/plain": [
       "              0         1         2         3         4         5         6  \\\n",
       "dogs  -0.005362  0.002364  0.051033  0.090093 -0.093029 -0.071168  0.064589   \n",
       "like   0.073805 -0.015335 -0.045366  0.065541 -0.048602 -0.018160  0.028766   \n",
       "I      0.073118  0.050703  0.067577  0.007629  0.063509 -0.034054 -0.009464   \n",
       "bad   -0.075116 -0.009300  0.095381 -0.073192 -0.023338 -0.019377  0.080774   \n",
       "not   -0.096036  0.050073 -0.087596 -0.043918 -0.000351 -0.002962 -0.076612   \n",
       "is    -0.081579  0.044958 -0.041371  0.008245  0.084986 -0.044622  0.045175   \n",
       "movie -0.015777  0.003214 -0.041406 -0.076827 -0.015080  0.024698 -0.008880   \n",
       "this   0.054558  0.083460 -0.014537 -0.092081  0.043706  0.005718  0.074419   \n",
       "\n",
       "              7         8         9  \n",
       "dogs   0.089730 -0.050154 -0.037634  \n",
       "like   0.009919 -0.082852 -0.094488  \n",
       "I      0.057686 -0.075216 -0.039361  \n",
       "bad   -0.059309  0.000452 -0.047537  \n",
       "not    0.096147  0.049821  0.092331  \n",
       "is    -0.067870 -0.035485  0.093985  \n",
       "movie  0.055337 -0.027430  0.022601  \n",
       "this  -0.008133 -0.026384 -0.087530  "
      ]
     },
     "execution_count": 4,
     "metadata": {},
     "output_type": "execute_result"
    }
   ],
   "source": [
    "pd.DataFrame(model.wv[words],index=words)"
   ]
  },
  {
   "cell_type": "code",
   "execution_count": null,
   "metadata": {
    "papermill": {
     "duration": 0.023743,
     "end_time": "2021-09-14T15:22:56.967840",
     "exception": false,
     "start_time": "2021-09-14T15:22:56.944097",
     "status": "completed"
    },
    "tags": []
   },
   "outputs": [],
   "source": []
  },
  {
   "cell_type": "code",
   "execution_count": null,
   "metadata": {
    "papermill": {
     "duration": 0.022918,
     "end_time": "2021-09-14T15:22:57.013941",
     "exception": false,
     "start_time": "2021-09-14T15:22:56.991023",
     "status": "completed"
    },
    "tags": []
   },
   "outputs": [],
   "source": []
  },
  {
   "cell_type": "markdown",
   "metadata": {
    "papermill": {
     "duration": 0.023115,
     "end_time": "2021-09-14T15:22:57.060981",
     "exception": false,
     "start_time": "2021-09-14T15:22:57.037866",
     "status": "completed"
    },
    "tags": []
   },
   "source": [
    "# Word Cloud\n",
    "\n",
    "The term “word cloud” is way too easier to understand. ... It is a visualization technique for text data wherein each word is picturized with its importance in the context or its frequency. "
   ]
  },
  {
   "cell_type": "code",
   "execution_count": 5,
   "metadata": {
    "execution": {
     "iopub.execute_input": "2021-09-14T15:22:57.112375Z",
     "iopub.status.busy": "2021-09-14T15:22:57.111726Z",
     "iopub.status.idle": "2021-09-14T15:22:58.010044Z",
     "shell.execute_reply": "2021-09-14T15:22:58.009299Z",
     "shell.execute_reply.started": "2021-09-14T14:45:45.895622Z"
    },
    "papermill": {
     "duration": 0.925627,
     "end_time": "2021-09-14T15:22:58.010315",
     "exception": false,
     "start_time": "2021-09-14T15:22:57.084688",
     "status": "completed"
    },
    "scrolled": true,
    "tags": []
   },
   "outputs": [],
   "source": [
    "import wordcloud\n",
    "import matplotlib.pyplot as plt\n",
    "import nltk\n"
   ]
  },
  {
   "cell_type": "markdown",
   "metadata": {
    "papermill": {
     "duration": 0.0232,
     "end_time": "2021-09-14T15:22:58.058123",
     "exception": false,
     "start_time": "2021-09-14T15:22:58.034923",
     "status": "completed"
    },
    "tags": []
   },
   "source": [
    "#### From data set"
   ]
  },
  {
   "cell_type": "code",
   "execution_count": 6,
   "metadata": {
    "execution": {
     "iopub.execute_input": "2021-09-14T15:22:58.112648Z",
     "iopub.status.busy": "2021-09-14T15:22:58.111953Z",
     "iopub.status.idle": "2021-09-14T15:23:01.170152Z",
     "shell.execute_reply": "2021-09-14T15:23:01.170641Z",
     "shell.execute_reply.started": "2021-09-14T14:45:45.897544Z"
    },
    "papermill": {
     "duration": 3.089494,
     "end_time": "2021-09-14T15:23:01.170834",
     "exception": false,
     "start_time": "2021-09-14T15:22:58.081340",
     "status": "completed"
    },
    "scrolled": true,
    "tags": []
   },
   "outputs": [
    {
     "data": {
      "text/plain": [
       "<matplotlib.image.AxesImage at 0x7fe23b5b2310>"
      ]
     },
     "execution_count": 6,
     "metadata": {},
     "output_type": "execute_result"
    },
    {
     "data": {
      "image/png": "[encoded data removed]",
      "text/plain": [
       "<Figure size 432x288 with 1 Axes>"
      ]
     },
     "metadata": {
      "needs_background": "light"
     },
     "output_type": "display_data"
    }
   ],
   "source": [
    "reviews = pd.read_csv('../input/trainings/amazon_reviews_big.csv').sample(1000).reset_index()\n",
    "reviews.shape\n",
    "\n",
    "stopwords=nltk.corpus.stopwords.words('english')\n",
    "\n",
    "docs=reviews['reviewText'].fillna('Not available').str.lower()\n",
    "docs_strings = ' '.join(docs)\n",
    "docs_strings\n",
    "\n",
    "wc=wordcloud.WordCloud(background_color='black',stopwords=stopwords).generate(docs_strings)\n",
    "plt.imshow(wc)"
   ]
  },
  {
   "cell_type": "markdown",
   "metadata": {
    "papermill": {
     "duration": 0.027377,
     "end_time": "2021-09-14T15:23:01.225766",
     "exception": false,
     "start_time": "2021-09-14T15:23:01.198389",
     "status": "completed"
    },
    "tags": []
   },
   "source": [
    "#### From a string"
   ]
  },
  {
   "cell_type": "code",
   "execution_count": 7,
   "metadata": {
    "execution": {
     "iopub.execute_input": "2021-09-14T15:23:01.287125Z",
     "iopub.status.busy": "2021-09-14T15:23:01.286426Z",
     "iopub.status.idle": "2021-09-14T15:23:01.676558Z",
     "shell.execute_reply": "2021-09-14T15:23:01.676031Z",
     "shell.execute_reply.started": "2021-09-14T14:45:45.899119Z"
    },
    "papermill": {
     "duration": 0.423074,
     "end_time": "2021-09-14T15:23:01.676711",
     "exception": false,
     "start_time": "2021-09-14T15:23:01.253637",
     "status": "completed"
    },
    "tags": []
   },
   "outputs": [
    {
     "data": {
      "text/plain": [
       "<matplotlib.image.AxesImage at 0x7fe24032e050>"
      ]
     },
     "execution_count": 7,
     "metadata": {},
     "output_type": "execute_result"
    },
    {
     "data": {
      "image/png": "[encoded data removed]",
      "text/plain": [
       "<Figure size 432x288 with 1 Axes>"
      ]
     },
     "metadata": {
      "needs_background": "light"
     },
     "output_type": "display_data"
    }
   ],
   "source": [
    "doc='Nature is made of everything we see around us – trees, flowers, plants, animals, sky, mountains, forests and more. Human beings depend on nature to stay alive. Nature helps us breathe, gives us food, water, shelter, medicines, and clothes.We find many colors in nature which make the Earth beautiful.'\n",
    "\n",
    "wc1=wordcloud.WordCloud(background_color='black').generate(doc)\n",
    "plt.imshow(wc1)\n"
   ]
  },
  {
   "cell_type": "markdown",
   "metadata": {
    "papermill": {
     "duration": 0.029528,
     "end_time": "2021-09-14T15:23:01.735895",
     "exception": false,
     "start_time": "2021-09-14T15:23:01.706367",
     "status": "completed"
    },
    "tags": []
   },
   "source": [
    "# GloVe (Global Vectors for Word Representation)\n",
    "\n",
    "GloVe is an unsupervised learning algorithm for obtaining vector representations for words. Training is performed on aggregated global word-word co-occurrence statistics from a corpus, and the resulting representations showcase interesting linear substructures of the word vector space."
   ]
  },
  {
   "cell_type": "code",
   "execution_count": 8,
   "metadata": {
    "execution": {
     "iopub.execute_input": "2021-09-14T15:23:01.802646Z",
     "iopub.status.busy": "2021-09-14T15:23:01.801997Z",
     "iopub.status.idle": "2021-09-14T15:23:01.803896Z",
     "shell.execute_reply": "2021-09-14T15:23:01.804353Z",
     "shell.execute_reply.started": "2021-09-14T14:46:22.884782Z"
    },
    "papermill": {
     "duration": 0.037666,
     "end_time": "2021-09-14T15:23:01.804529",
     "exception": false,
     "start_time": "2021-09-14T15:23:01.766863",
     "status": "completed"
    },
    "tags": []
   },
   "outputs": [],
   "source": [
    "from gensim.models import KeyedVectors"
   ]
  },
  {
   "cell_type": "code",
   "execution_count": 9,
   "metadata": {
    "execution": {
     "iopub.execute_input": "2021-09-14T15:23:01.869446Z",
     "iopub.status.busy": "2021-09-14T15:23:01.868703Z",
     "iopub.status.idle": "2021-09-14T15:24:17.067368Z",
     "shell.execute_reply": "2021-09-14T15:24:17.067939Z",
     "shell.execute_reply.started": "2021-09-14T14:47:55.696288Z"
    },
    "papermill": {
     "duration": 75.233579,
     "end_time": "2021-09-14T15:24:17.068151",
     "exception": false,
     "start_time": "2021-09-14T15:23:01.834572",
     "status": "completed"
    },
    "tags": []
   },
   "outputs": [
    {
     "data": {
      "text/plain": [
       "3000000"
      ]
     },
     "execution_count": 9,
     "metadata": {},
     "output_type": "execute_result"
    }
   ],
   "source": [
    "embeddings=KeyedVectors.load_word2vec_format('../input/googlenewsvectorsnegative300/GoogleNews-vectors-negative300.bin',binary=True)\n",
    "len(embeddings)"
   ]
  },
  {
   "cell_type": "code",
   "execution_count": 10,
   "metadata": {
    "execution": {
     "iopub.execute_input": "2021-09-14T15:24:17.134401Z",
     "iopub.status.busy": "2021-09-14T15:24:17.133363Z",
     "iopub.status.idle": "2021-09-14T15:24:17.137222Z",
     "shell.execute_reply": "2021-09-14T15:24:17.136670Z",
     "shell.execute_reply.started": "2021-09-14T14:53:38.554129Z"
    },
    "papermill": {
     "duration": 0.039247,
     "end_time": "2021-09-14T15:24:17.137363",
     "exception": false,
     "start_time": "2021-09-14T15:24:17.098116",
     "status": "completed"
    },
    "tags": []
   },
   "outputs": [
    {
     "data": {
      "text/plain": [
       "False"
      ]
     },
     "execution_count": 10,
     "metadata": {},
     "output_type": "execute_result"
    }
   ],
   "source": [
    "words=embeddings.key_to_index\n",
    "\n",
    "# Checking if a word is in embeddings or not\n",
    "\n",
    "# False indicates word not present\n",
    "'nehal' in embeddings"
   ]
  },
  {
   "cell_type": "code",
   "execution_count": 11,
   "metadata": {
    "execution": {
     "iopub.execute_input": "2021-09-14T15:24:17.203894Z",
     "iopub.status.busy": "2021-09-14T15:24:17.203199Z",
     "iopub.status.idle": "2021-09-14T15:24:17.206793Z",
     "shell.execute_reply": "2021-09-14T15:24:17.207335Z",
     "shell.execute_reply.started": "2021-09-14T14:54:28.653308Z"
    },
    "papermill": {
     "duration": 0.039275,
     "end_time": "2021-09-14T15:24:17.207515",
     "exception": false,
     "start_time": "2021-09-14T15:24:17.168240",
     "status": "completed"
    },
    "tags": []
   },
   "outputs": [
    {
     "data": {
      "text/plain": [
       "True"
      ]
     },
     "execution_count": 11,
     "metadata": {},
     "output_type": "execute_result"
    }
   ],
   "source": [
    "# True indicates word is present\n",
    "'obama' in embeddings"
   ]
  },
  {
   "cell_type": "code",
   "execution_count": null,
   "metadata": {
    "papermill": {
     "duration": 0.030364,
     "end_time": "2021-09-14T15:24:17.268960",
     "exception": false,
     "start_time": "2021-09-14T15:24:17.238596",
     "status": "completed"
    },
    "tags": []
   },
   "outputs": [],
   "source": []
  },
  {
   "cell_type": "markdown",
   "metadata": {
    "papermill": {
     "duration": 0.029962,
     "end_time": "2021-09-14T15:24:17.329438",
     "exception": false,
     "start_time": "2021-09-14T15:24:17.299476",
     "status": "completed"
    },
    "tags": []
   },
   "source": [
    "#  Document Similarity\n",
    "\n",
    "Similarity Problem\n",
    "To find the similarity between texts you first need to define two aspects:\n",
    "The similarity method that will be used to calculate the similarities between the embeddings.\n",
    "The algorithm that will be used to transform the text into an embedding, which is a form to represent the text in a vector space.\n",
    "\n",
    "### Similarity Methods\n",
    "\n",
    "####  Cosine Similarity\n",
    "Cosine Similarity measures the cosine of the angle between two embeddings. \n",
    "\n"
   ]
  },
  {
   "cell_type": "code",
   "execution_count": 12,
   "metadata": {
    "execution": {
     "iopub.execute_input": "2021-09-14T15:24:17.396677Z",
     "iopub.status.busy": "2021-09-14T15:24:17.395691Z",
     "iopub.status.idle": "2021-09-14T15:24:17.410037Z",
     "shell.execute_reply": "2021-09-14T15:24:17.410650Z",
     "shell.execute_reply.started": "2021-09-14T15:02:21.451833Z"
    },
    "papermill": {
     "duration": 0.050178,
     "end_time": "2021-09-14T15:24:17.410848",
     "exception": false,
     "start_time": "2021-09-14T15:24:17.360670",
     "status": "completed"
    },
    "tags": []
   },
   "outputs": [
    {
     "name": "stdout",
     "output_type": "stream",
     "text": [
      "0.22942667\n",
      "0.12847976\n",
      "0.6159996\n",
      "0.39654136\n"
     ]
    }
   ],
   "source": [
    "from sklearn.metrics.pairwise import cosine_similarity\n",
    "\n",
    "print(cosine_similarity([embeddings['king'],embeddings['man']])[0][1])\n",
    "print(cosine_similarity([embeddings['king'],embeddings['woman']])[0][1])\n",
    "print(cosine_similarity([embeddings['king'],embeddings['prince']])[0][1])\n",
    "print(cosine_similarity([embeddings['king'],embeddings['heir']])[0][1])"
   ]
  },
  {
   "cell_type": "markdown",
   "metadata": {
    "papermill": {
     "duration": 0.030475,
     "end_time": "2021-09-14T15:24:17.473123",
     "exception": false,
     "start_time": "2021-09-14T15:24:17.442648",
     "status": "completed"
    },
    "tags": []
   },
   "source": [
    "#### Euclidean Distance\n",
    "Euclidean Distance is probably one of the most known formulas for computing the distance between two points applying the Pythagorean theorem."
   ]
  },
  {
   "cell_type": "code",
   "execution_count": 13,
   "metadata": {
    "execution": {
     "iopub.execute_input": "2021-09-14T15:24:17.540301Z",
     "iopub.status.busy": "2021-09-14T15:24:17.539319Z",
     "iopub.status.idle": "2021-09-14T15:24:17.549665Z",
     "shell.execute_reply": "2021-09-14T15:24:17.548863Z",
     "shell.execute_reply.started": "2021-09-14T15:03:49.051954Z"
    },
    "papermill": {
     "duration": 0.044544,
     "end_time": "2021-09-14T15:24:17.549873",
     "exception": false,
     "start_time": "2021-09-14T15:24:17.505329",
     "status": "completed"
    },
    "tags": []
   },
   "outputs": [
    {
     "name": "stdout",
     "output_type": "stream",
     "text": [
      "3.2687893\n",
      "3.6735513\n",
      "2.6465008\n",
      "3.4940617\n"
     ]
    }
   ],
   "source": [
    "from sklearn.metrics.pairwise import euclidean_distances\n",
    "\n",
    "print(euclidean_distances([embeddings['king'],embeddings['man']])[0][1])\n",
    "print(euclidean_distances([embeddings['king'],embeddings['woman']])[0][1])\n",
    "print(euclidean_distances([embeddings['king'],embeddings['prince']])[0][1])\n",
    "print(euclidean_distances([embeddings['king'],embeddings['heir']])[0][1])"
   ]
  },
  {
   "cell_type": "code",
   "execution_count": 14,
   "metadata": {
    "execution": {
     "iopub.execute_input": "2021-09-14T15:24:17.618585Z",
     "iopub.status.busy": "2021-09-14T15:24:17.617889Z",
     "iopub.status.idle": "2021-09-14T15:24:19.834754Z",
     "shell.execute_reply": "2021-09-14T15:24:19.835694Z",
     "shell.execute_reply.started": "2021-09-14T15:19:42.912274Z"
    },
    "papermill": {
     "duration": 2.254045,
     "end_time": "2021-09-14T15:24:19.836006",
     "exception": false,
     "start_time": "2021-09-14T15:24:17.581961",
     "status": "completed"
    },
    "tags": []
   },
   "outputs": [
    {
     "data": {
      "text/plain": [
       "[('queen', 0.7118193507194519),\n",
       " ('monarch', 0.6189674139022827),\n",
       " ('princess', 0.5902431011199951),\n",
       " ('crown_prince', 0.5499460697174072),\n",
       " ('prince', 0.5377321839332581)]"
      ]
     },
     "execution_count": 14,
     "metadata": {},
     "output_type": "execute_result"
    }
   ],
   "source": [
    "embeddings.most_similar(positive=['king', 'woman'], negative=['man'], topn=5)"
   ]
  },
  {
   "cell_type": "code",
   "execution_count": null,
   "metadata": {
    "papermill": {
     "duration": 0.031399,
     "end_time": "2021-09-14T15:24:19.917121",
     "exception": false,
     "start_time": "2021-09-14T15:24:19.885722",
     "status": "completed"
    },
    "tags": []
   },
   "outputs": [],
   "source": []
  }
 ],
 "metadata": {
  "kernelspec": {
   "display_name": "Python 3",
   "language": "python",
   "name": "python3"
  },
  "language_info": {
   "codemirror_mode": {
    "name": "ipython",
    "version": 3
   },
   "file_extension": ".py",
   "mimetype": "text/x-python",
   "name": "python",
   "nbconvert_exporter": "python",
   "pygments_lexer": "ipython3",
   "version": "3.7.6"
  },
  "papermill": {
   "default_parameters": {},
   "duration": 94.860285,
   "end_time": "2021-09-14T15:24:21.481314",
   "environment_variables": {},
   "exception": null,
   "input_path": "__notebook__.ipynb",
   "output_path": "__notebook__.ipynb",
   "parameters": {},
   "start_time": "2021-09-14T15:22:46.621029",
   "version": "2.3.3"
  }
 },
 "nbformat": 4,
 "nbformat_minor": 5
}
